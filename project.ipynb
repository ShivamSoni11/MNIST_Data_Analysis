{
  "nbformat": 4,
  "nbformat_minor": 0,
  "metadata": {
    "colab": {
      "name": "project.ipynb",
      "provenance": [],
      "authorship_tag": "ABX9TyN/Kw27XHepXDlFgjR3+2cd",
      "include_colab_link": true
    },
    "kernelspec": {
      "name": "python3",
      "display_name": "Python 3"
    }
  },
  "cells": [
    {
      "cell_type": "markdown",
      "metadata": {
        "id": "view-in-github",
        "colab_type": "text"
      },
      "source": [
        "<a href=\"https://colab.research.google.com/github/ShivamSoni11/MNIST_Data_Analysis/blob/master/project.ipynb\" target=\"_parent\"><img src=\"https://colab.research.google.com/assets/colab-badge.svg\" alt=\"Open In Colab\"/></a>"
      ]
    },
    {
      "cell_type": "markdown",
      "metadata": {
        "id": "POSlelOZnsKK",
        "colab_type": "text"
      },
      "source": [
        "#**1. Import the libraires**"
      ]
    },
    {
      "cell_type": "code",
      "metadata": {
        "id": "J5uf3hbHxD_y",
        "colab_type": "code",
        "colab": {}
      },
      "source": [
        "import time\n",
        "import numpy as np\n",
        "from keras.models import Sequential\n",
        "from keras.layers import Dense\n",
        "from keras.optimizers import SGD\n",
        "from keras.utils import np_utils\n",
        "\n",
        "import matplotlib.pyplot as plt\n",
        "%matplotlib inline"
      ],
      "execution_count": null,
      "outputs": []
    },
    {
      "cell_type": "markdown",
      "metadata": {
        "id": "N-L5OicAwqmM",
        "colab_type": "text"
      },
      "source": [
        "## 2. Set Random Seed for Reproducibility"
      ]
    },
    {
      "cell_type": "code",
      "metadata": {
        "id": "qeCVh8FCnnt6",
        "colab_type": "code",
        "colab": {}
      },
      "source": [
        "np.random.seed(903)"
      ],
      "execution_count": null,
      "outputs": []
    },
    {
      "cell_type": "markdown",
      "metadata": {
        "id": "l7n6RcJazel0",
        "colab_type": "text"
      },
      "source": [
        "## 3. Load MNSIT ##\n",
        "Keras provide very **covinent means of loading the dataset** as well as doing the **data slicing** as shown below.\n",
        "Note: It is to name the attribute X(matrix) in upper-case and the label y(vector) in lower case."
      ]
    },
    {
      "cell_type": "code",
      "metadata": {
        "id": "6qvtEIX20vrj",
        "colab_type": "code",
        "colab": {
          "base_uri": "https://localhost:8080/",
          "height": 168
        },
        "outputId": "98dc6238-5413-45fb-ffe8-8c2f35b3960f"
      },
      "source": [
        "from keras.datasets import mnist\n",
        "(train_features, train_labels), (test_features, test_labels) = mnist.load_data()\n",
        "\n",
        "_,img_rows,img_cols = train_features.shape\n",
        "num_classes = len(np.unique(train_labels)) # if values > 2 multi class then we use classical entrop...if == 2 then binary class then binary entrop in loss\n",
        "num_input_nodes = img_rows * img_cols\n",
        "\n",
        "print(\"No. of training samples  : \", train_features.shape[0])\n",
        "print(\"No of test samples       : \", test_features.shape[0])\n",
        "\n",
        "print(\"Image Rows: \",train_features.shape[1])\n",
        "print(\"Image cols: \",train_features.shape[2])\n",
        "\n",
        "print(\"Number of classes : \", num_classes)\n"
      ],
      "execution_count": null,
      "outputs": [
        {
          "output_type": "stream",
          "text": [
            "Downloading data from https://storage.googleapis.com/tensorflow/tf-keras-datasets/mnist.npz\n",
            "11493376/11490434 [==============================] - 0s 0us/step\n",
            "No. of training samples  :  60000\n",
            "No of test samples       :  10000\n",
            "Image Rows:  28\n",
            "Image cols:  28\n",
            "Number of classes :  10\n"
          ],
          "name": "stdout"
        }
      ]
    },
    {
      "cell_type": "markdown",
      "metadata": {
        "id": "wuUZtzwp5_0k",
        "colab_type": "text"
      },
      "source": [
        "# 4. Show Example from each class.\n",
        "\n"
      ]
    },
    {
      "cell_type": "code",
      "metadata": {
        "id": "DCILuZMz6PB_",
        "colab_type": "code",
        "colab": {
          "base_uri": "https://localhost:8080/",
          "height": 289
        },
        "outputId": "dacfefe0-630a-4418-a4c4-44ad5ee7d181"
      },
      "source": [
        "fig  = plt.figure(figsize=(12,5))\n",
        "for i in range(num_classes):\n",
        "  ax = fig.add_subplot(2,5,i+1,xticks=[],yticks=[])\n",
        "  features_idx = train_features[train_labels[:]==i, :]\n",
        "  ax.set_title(\"Num :\" + str(i))\n",
        "  plt.imshow(features_idx[0], cmap=\"gray\")\n",
        "plt.show()\n"
      ],
      "execution_count": null,
      "outputs": [
        {
          "output_type": "display_data",
          "data": {
            "image/png": "[encoded data removed]",
            "text/plain": [
              "<Figure size 864x360 with 10 Axes>"
            ]
          },
          "metadata": {
            "tags": []
          }
        }
      ]
    },
    {
      "cell_type": "code",
      "metadata": {
        "id": "9fjNrn1oLQyt",
        "colab_type": "code",
        "colab": {
          "base_uri": "https://localhost:8080/",
          "height": 1000
        },
        "outputId": "21e9e6f3-ef3a-4384-c8f5-2c51a8f1c060"
      },
      "source": [
        "train_features[0]"
      ],
      "execution_count": null,
      "outputs": [
        {
          "output_type": "execute_result",
          "data": {
            "text/plain": [
              "array([[  0,   0,   0,   0,   0,   0,   0,   0,   0,   0,   0,   0,   0,\n",
              "          0,   0,   0,   0,   0,   0,   0,   0,   0,   0,   0,   0,   0,\n",
              "          0,   0],\n",
              "       [  0,   0,   0,   0,   0,   0,   0,   0,   0,   0,   0,   0,   0,\n",
              "          0,   0,   0,   0,   0,   0,   0,   0,   0,   0,   0,   0,   0,\n",
              "          0,   0],\n",
              "       [  0,   0,   0,   0,   0,   0,   0,   0,   0,   0,   0,   0,   0,\n",
              "          0,   0,   0,   0,   0,   0,   0,   0,   0,   0,   0,   0,   0,\n",
              "          0,   0],\n",
              "       [  0,   0,   0,   0,   0,   0,   0,   0,   0,   0,   0,   0,   0,\n",
              "          0,   0,   0,   0,   0,   0,   0,   0,   0,   0,   0,   0,   0,\n",
              "          0,   0],\n",
              "       [  0,   0,   0,   0,   0,   0,   0,   0,   0,   0,   0,   0,   0,\n",
              "          0,   0,   0,   0,   0,   0,   0,   0,   0,   0,   0,   0,   0,\n",
              "          0,   0],\n",
              "       [  0,   0,   0,   0,   0,   0,   0,   0,   0,   0,   0,   0,   3,\n",
              "         18,  18,  18, 126, 136, 175,  26, 166, 255, 247, 127,   0,   0,\n",
              "          0,   0],\n",
              "       [  0,   0,   0,   0,   0,   0,   0,   0,  30,  36,  94, 154, 170,\n",
              "        253, 253, 253, 253, 253, 225, 172, 253, 242, 195,  64,   0,   0,\n",
              "          0,   0],\n",
              "       [  0,   0,   0,   0,   0,   0,   0,  49, 238, 253, 253, 253, 253,\n",
              "        253, 253, 253, 253, 251,  93,  82,  82,  56,  39,   0,   0,   0,\n",
              "          0,   0],\n",
              "       [  0,   0,   0,   0,   0,   0,   0,  18, 219, 253, 253, 253, 253,\n",
              "        253, 198, 182, 247, 241,   0,   0,   0,   0,   0,   0,   0,   0,\n",
              "          0,   0],\n",
              "       [  0,   0,   0,   0,   0,   0,   0,   0,  80, 156, 107, 253, 253,\n",
              "        205,  11,   0,  43, 154,   0,   0,   0,   0,   0,   0,   0,   0,\n",
              "          0,   0],\n",
              "       [  0,   0,   0,   0,   0,   0,   0,   0,   0,  14,   1, 154, 253,\n",
              "         90,   0,   0,   0,   0,   0,   0,   0,   0,   0,   0,   0,   0,\n",
              "          0,   0],\n",
              "       [  0,   0,   0,   0,   0,   0,   0,   0,   0,   0,   0, 139, 253,\n",
              "        190,   2,   0,   0,   0,   0,   0,   0,   0,   0,   0,   0,   0,\n",
              "          0,   0],\n",
              "       [  0,   0,   0,   0,   0,   0,   0,   0,   0,   0,   0,  11, 190,\n",
              "        253,  70,   0,   0,   0,   0,   0,   0,   0,   0,   0,   0,   0,\n",
              "          0,   0],\n",
              "       [  0,   0,   0,   0,   0,   0,   0,   0,   0,   0,   0,   0,  35,\n",
              "        241, 225, 160, 108,   1,   0,   0,   0,   0,   0,   0,   0,   0,\n",
              "          0,   0],\n",
              "       [  0,   0,   0,   0,   0,   0,   0,   0,   0,   0,   0,   0,   0,\n",
              "         81, 240, 253, 253, 119,  25,   0,   0,   0,   0,   0,   0,   0,\n",
              "          0,   0],\n",
              "       [  0,   0,   0,   0,   0,   0,   0,   0,   0,   0,   0,   0,   0,\n",
              "          0,  45, 186, 253, 253, 150,  27,   0,   0,   0,   0,   0,   0,\n",
              "          0,   0],\n",
              "       [  0,   0,   0,   0,   0,   0,   0,   0,   0,   0,   0,   0,   0,\n",
              "          0,   0,  16,  93, 252, 253, 187,   0,   0,   0,   0,   0,   0,\n",
              "          0,   0],\n",
              "       [  0,   0,   0,   0,   0,   0,   0,   0,   0,   0,   0,   0,   0,\n",
              "          0,   0,   0,   0, 249, 253, 249,  64,   0,   0,   0,   0,   0,\n",
              "          0,   0],\n",
              "       [  0,   0,   0,   0,   0,   0,   0,   0,   0,   0,   0,   0,   0,\n",
              "          0,  46, 130, 183, 253, 253, 207,   2,   0,   0,   0,   0,   0,\n",
              "          0,   0],\n",
              "       [  0,   0,   0,   0,   0,   0,   0,   0,   0,   0,   0,   0,  39,\n",
              "        148, 229, 253, 253, 253, 250, 182,   0,   0,   0,   0,   0,   0,\n",
              "          0,   0],\n",
              "       [  0,   0,   0,   0,   0,   0,   0,   0,   0,   0,  24, 114, 221,\n",
              "        253, 253, 253, 253, 201,  78,   0,   0,   0,   0,   0,   0,   0,\n",
              "          0,   0],\n",
              "       [  0,   0,   0,   0,   0,   0,   0,   0,  23,  66, 213, 253, 253,\n",
              "        253, 253, 198,  81,   2,   0,   0,   0,   0,   0,   0,   0,   0,\n",
              "          0,   0],\n",
              "       [  0,   0,   0,   0,   0,   0,  18, 171, 219, 253, 253, 253, 253,\n",
              "        195,  80,   9,   0,   0,   0,   0,   0,   0,   0,   0,   0,   0,\n",
              "          0,   0],\n",
              "       [  0,   0,   0,   0,  55, 172, 226, 253, 253, 253, 253, 244, 133,\n",
              "         11,   0,   0,   0,   0,   0,   0,   0,   0,   0,   0,   0,   0,\n",
              "          0,   0],\n",
              "       [  0,   0,   0,   0, 136, 253, 253, 253, 212, 135, 132,  16,   0,\n",
              "          0,   0,   0,   0,   0,   0,   0,   0,   0,   0,   0,   0,   0,\n",
              "          0,   0],\n",
              "       [  0,   0,   0,   0,   0,   0,   0,   0,   0,   0,   0,   0,   0,\n",
              "          0,   0,   0,   0,   0,   0,   0,   0,   0,   0,   0,   0,   0,\n",
              "          0,   0],\n",
              "       [  0,   0,   0,   0,   0,   0,   0,   0,   0,   0,   0,   0,   0,\n",
              "          0,   0,   0,   0,   0,   0,   0,   0,   0,   0,   0,   0,   0,\n",
              "          0,   0],\n",
              "       [  0,   0,   0,   0,   0,   0,   0,   0,   0,   0,   0,   0,   0,\n",
              "          0,   0,   0,   0,   0,   0,   0,   0,   0,   0,   0,   0,   0,\n",
              "          0,   0]], dtype=uint8)"
            ]
          },
          "metadata": {
            "tags": []
          },
          "execution_count": 5
        }
      ]
    },
    {
      "cell_type": "markdown",
      "metadata": {
        "id": "RtZTp09s_4U8",
        "colab_type": "text"
      },
      "source": [
        "# 5. Pre-processing"
      ]
    },
    {
      "cell_type": "code",
      "metadata": {
        "id": "axUNhIRS_4uz",
        "colab_type": "code",
        "colab": {}
      },
      "source": [
        "# reshape images to column vector\n",
        "\n",
        "train_features = train_features.reshape(train_features.shape[0], img_rows*img_cols) # X_train\n",
        "test_features = test_features.reshape(test_features.shape[0], img_rows*img_cols) # X_test\n",
        "\n",
        "# convert class labels to biary labels\n",
        "train_labels = np_utils.to_categorical(train_labels, num_classes)\n",
        "test_labels = np_utils.to_categorical(test_labels, num_classes)"
      ],
      "execution_count": null,
      "outputs": []
    },
    {
      "cell_type": "markdown",
      "metadata": {
        "id": "wuk1tBkNCtt_",
        "colab_type": "text"
      },
      "source": [
        "6. Define Neural Network Model"
      ]
    },
    {
      "cell_type": "code",
      "metadata": {
        "id": "zZG-e7IsCuDg",
        "colab_type": "code",
        "colab": {}
      },
      "source": [
        "def simple_nn():\n",
        "  # initialize model\n",
        "  model = Sequential()\n",
        "\n",
        "  #add an input layer and a hidden layer\n",
        "  model.add(Dense(units=100,activation='sigmoid', input_dim= num_input_nodes))\n",
        "\n",
        "  #add output layers\n",
        "  model.add(Dense(units=num_classes, activation='sigmoid'))\n",
        "  return model"
      ],
      "execution_count": null,
      "outputs": []
    },
    {
      "cell_type": "markdown",
      "metadata": {
        "id": "k_OXTiJvDvkR",
        "colab_type": "text"
      },
      "source": [
        "Check model summary-"
      ]
    },
    {
      "cell_type": "code",
      "metadata": {
        "id": "8918ygsjDuZL",
        "colab_type": "code",
        "colab": {
          "base_uri": "https://localhost:8080/",
          "height": 241
        },
        "outputId": "9f477aa9-1542-4773-ada4-2d6e748a7a06"
      },
      "source": [
        "# define model by calling the function created above\n",
        "model = simple_nn()\n",
        "\n",
        "# define optimizer\n",
        "sgd = SGD(lr = 0.01)\n",
        "\n",
        "# Compilig the model\n",
        "model.compile(optimizer=sgd, loss='mse', metrics=['accuracy'])\n",
        "\n",
        "#print model information\n",
        "model.summary()"
      ],
      "execution_count": null,
      "outputs": [
        {
          "output_type": "stream",
          "text": [
            "Model: \"sequential\"\n",
            "_________________________________________________________________\n",
            "Layer (type)                 Output Shape              Param #   \n",
            "=================================================================\n",
            "dense (Dense)                (None, 100)               78500     \n",
            "_________________________________________________________________\n",
            "dense_1 (Dense)              (None, 10)                1010      \n",
            "=================================================================\n",
            "Total params: 79,510\n",
            "Trainable params: 79,510\n",
            "Non-trainable params: 0\n",
            "_________________________________________________________________\n"
          ],
          "name": "stdout"
        }
      ]
    },
    {
      "cell_type": "markdown",
      "metadata": {
        "id": "Stygo9_pFwsS",
        "colab_type": "text"
      },
      "source": [
        "## 7. Train the model"
      ]
    },
    {
      "cell_type": "code",
      "metadata": {
        "id": "2xzG2nXzFucv",
        "colab_type": "code",
        "colab": {
          "base_uri": "https://localhost:8080/",
          "height": 249
        },
        "outputId": "4127c875-df44-4ca8-e03d-da4fbe27c785"
      },
      "source": [
        "start = time.time()\n",
        "\n",
        "model_info = model.fit(train_features,train_labels,\n",
        "                       batch_size =64,\n",
        "                       epochs=10,\n",
        "                       validation_split=0.2)\n",
        "end = time.time()\n",
        "total_time = round(end-start,2)\n",
        "print(\"\\n\\nModel took {} seconds to train\".format(total_time))"
      ],
      "execution_count": null,
      "outputs": [
        {
          "output_type": "error",
          "ename": "NameError",
          "evalue": "ignored",
          "traceback": [
            "\u001b[0;31m---------------------------------------------------------------------------\u001b[0m",
            "\u001b[0;31mNameError\u001b[0m                                 Traceback (most recent call last)",
            "\u001b[0;32m<ipython-input-1-90fc6f96c4dd>\u001b[0m in \u001b[0;36m<module>\u001b[0;34m()\u001b[0m\n\u001b[0;32m----> 1\u001b[0;31m \u001b[0mstart\u001b[0m \u001b[0;34m=\u001b[0m \u001b[0mtime\u001b[0m\u001b[0;34m.\u001b[0m\u001b[0mtime\u001b[0m\u001b[0;34m(\u001b[0m\u001b[0;34m)\u001b[0m\u001b[0;34m\u001b[0m\u001b[0;34m\u001b[0m\u001b[0m\n\u001b[0m\u001b[1;32m      2\u001b[0m \u001b[0;34m\u001b[0m\u001b[0m\n\u001b[1;32m      3\u001b[0m model_info = model.fit(train_features,train_labels,\n\u001b[1;32m      4\u001b[0m                        \u001b[0mbatch_size\u001b[0m \u001b[0;34m=\u001b[0m\u001b[0;36m64\u001b[0m\u001b[0;34m,\u001b[0m\u001b[0;34m\u001b[0m\u001b[0;34m\u001b[0m\u001b[0m\n\u001b[1;32m      5\u001b[0m                        \u001b[0mepochs\u001b[0m\u001b[0;34m=\u001b[0m\u001b[0;36m10\u001b[0m\u001b[0;34m,\u001b[0m\u001b[0;34m\u001b[0m\u001b[0;34m\u001b[0m\u001b[0m\n",
            "\u001b[0;31mNameError\u001b[0m: name 'time' is not defined"
          ]
        }
      ]
    },
    {
      "cell_type": "code",
      "metadata": {
        "id": "UjXLI1pBKZKR",
        "colab_type": "code",
        "colab": {}
      },
      "source": [
        "from pprint import pprint as pp"
      ],
      "execution_count": null,
      "outputs": []
    },
    {
      "cell_type": "code",
      "metadata": {
        "id": "VTJ7a4-3KkTQ",
        "colab_type": "code",
        "colab": {
          "base_uri": "https://localhost:8080/"
        },
        "outputId": "47b545b8-c045-409d-9577-52862c7ca5fb"
      },
      "source": [
        "pp(model_info.history)"
      ],
      "execution_count": null,
      "outputs": [
        {
          "output_type": "stream",
          "text": [
            "{'accuracy': [0.24956250190734863,\n",
            "              0.445187509059906,\n",
            "              0.5591874718666077,\n",
            "              0.6245416402816772,\n",
            "              0.6710000038146973,\n",
            "              0.7048333287239075,\n",
            "              0.7309166789054871,\n",
            "              0.7519999742507935,\n",
            "              0.7697291374206543,\n",
            "              0.7856249809265137],\n",
            " 'loss': [0.10611379891633987,\n",
            "          0.07824485749006271,\n",
            "          0.07103952765464783,\n",
            "          0.06534159928560257,\n",
            "          0.06068211421370506,\n",
            "          0.056781377643346786,\n",
            "          0.053504373878240585,\n",
            "          0.05069716274738312,\n",
            "          0.048234447836875916,\n",
            "          0.046076443046331406],\n",
            " 'val_accuracy': [0.37583333253860474,\n",
            "                  0.5228333473205566,\n",
            "                  0.6100833415985107,\n",
            "                  0.6663333177566528,\n",
            "                  0.7054166793823242,\n",
            "                  0.7308333516120911,\n",
            "                  0.7521666884422302,\n",
            "                  0.7729166746139526,\n",
            "                  0.7915833592414856,\n",
            "                  0.8047500252723694],\n",
            " 'val_loss': [0.08230794966220856,\n",
            "              0.07382462918758392,\n",
            "              0.06734734028577805,\n",
            "              0.06213622912764549,\n",
            "              0.057823531329631805,\n",
            "              0.0542256198823452,\n",
            "              0.05114884302020073,\n",
            "              0.04849880561232567,\n",
            "              0.046114981174468994,\n",
            "              0.04410140961408615]}\n"
          ],
          "name": "stdout"
        }
      ]
    },
    {
      "cell_type": "markdown",
      "metadata": {
        "id": "s5yX_W8E6VSi",
        "colab_type": "text"
      },
      "source": [
        "8. Plot Accuracy and loss"
      ]
    },
    {
      "cell_type": "code",
      "metadata": {
        "id": "k-UZgDYo6Q0W",
        "colab_type": "code",
        "colab": {
          "base_uri": "https://localhost:8080/"
        },
        "outputId": "f832fb2c-927c-49f2-bdeb-b6b69d9415d6"
      },
      "source": [
        "def plot_model_history(model_history):\n",
        "  fig, axs = plt.subplots(1, 2, figsize=(15,5))\n",
        "\n",
        "  #Summarize history for accuracy\n",
        "  axs[0].plot( range(1, len(model_history.history['accuracy'])+1), model_history.history['accuracy'])\n",
        "  axs[0].plot( range(1, len(model_history.history['val_accuracy'])+1), model_history.history['val_accuracy'])\n",
        "  axs[0].set_title('Model Accuracy')\n",
        "\n",
        "  axs[0].set_xlabel('Epoch')\n",
        "  axs[0].set_ylabel('Accuracy')\n",
        "\n",
        "  axs[0].set_xticks(np.arange(1,len(model_history.history['accuracy'])+1),len( model_history.history['accuracy'])/10 )\n",
        "  axs[0].legend(['train','val'],loc='best')\n",
        "\n",
        "  #summarize history for loss\n",
        "\n",
        "  axs[1].plot( range(1, len(model_history.history['loss'])+1), model_history.history['loss'])\n",
        "  axs[1].plot( range(1, len(model_history.history['val_loss'])+1), model_history.history['val_loss'])\n",
        "  axs[1].set_title('Model Loss')\n",
        "\n",
        "  axs[1].set_xlabel('Epoch')\n",
        "  axs[1].set_ylabel('Loss')\n",
        "\n",
        "  axs[1].set_xticks(np.arange(1,len(model_history.history['loss'])+1),len( model_history.history['loss'])/10)\n",
        "  axs[1].legend(['train','val'],loc='best')\n",
        "\n",
        "  plt.show()\n",
        "\n",
        "plot_model_history(model_info)"
      ],
      "execution_count": null,
      "outputs": [
        {
          "output_type": "stream",
          "text": [
            "/usr/local/lib/python3.6/dist-packages/ipykernel_launcher.py:12: MatplotlibDeprecationWarning: Passing the minor parameter of set_xticks() positionally is deprecated since Matplotlib 3.2; the parameter will become keyword-only two minor releases later.\n",
            "  if sys.path[0] == '':\n",
            "/usr/local/lib/python3.6/dist-packages/ipykernel_launcher.py:24: MatplotlibDeprecationWarning: Passing the minor parameter of set_xticks() positionally is deprecated since Matplotlib 3.2; the parameter will become keyword-only two minor releases later.\n"
          ],
          "name": "stderr"
        },
        {
          "output_type": "display_data",
          "data": {
            "image/png": "[encoded data removed]",
            "text/plain": [
              "<Figure size 1080x360 with 2 Axes>"
            ]
          },
          "metadata": {
            "tags": [],
            "needs_background": "light"
          }
        }
      ]
    },
    {
      "cell_type": "markdown",
      "metadata": {
        "id": "QnDlFf-XIVHF",
        "colab_type": "text"
      },
      "source": [
        "**Experiment With Components**"
      ]
    },
    {
      "cell_type": "markdown",
      "metadata": {
        "id": "wmWSgyudIc_C",
        "colab_type": "text"
      },
      "source": [
        "# 1. Orignal Model Testing"
      ]
    },
    {
      "cell_type": "code",
      "metadata": {
        "id": "NFKTgXf9ELnA",
        "colab_type": "code",
        "colab": {
          "base_uri": "https://localhost:8080/",
          "height": 36
        },
        "outputId": "b054a4b4-bc74-44b4-e472-6bd126c53a81"
      },
      "source": [
        "def accuracy(test_x, test_y, model):\n",
        "  result = model.predict(test_x)\n",
        "  predicted_class = np.argmax(result, axis=1)\n",
        "  true_class = np.argmax(test_y, axis=1)\n",
        "  num_correct = np.sum(predicted_class == true_class)\n",
        "  accuracy = num_correct/result.shape[0]\n",
        "  return round((accuracy*100),2)\n",
        "\n",
        "model_accuracy = accuracy(test_features, test_labels, model)\n",
        "print(\"Accuracy on Test data is : \", model_accuracy )"
      ],
      "execution_count": null,
      "outputs": [
        {
          "output_type": "stream",
          "text": [
            "Accuracy on Test data is :  79.51\n"
          ],
          "name": "stdout"
        }
      ]
    },
    {
      "cell_type": "markdown",
      "metadata": {
        "id": "aKofpDYIQG0c",
        "colab_type": "text"
      },
      "source": [
        "**Observations:**\n",
        "\n",
        "\n",
        "*   Both training and validation accuracy increases as the number os epochs increases.\n",
        "*   More informmation is learned in each epoch.\n",
        "\n",
        "\n"
      ]
    },
    {
      "cell_type": "markdown",
      "metadata": {
        "id": "b11lp0WJThSU",
        "colab_type": "text"
      },
      "source": [
        "# 2. Vary the Learning Rate"
      ]
    },
    {
      "cell_type": "markdown",
      "metadata": {
        "id": "_R5nYmUZTnOj",
        "colab_type": "text"
      },
      "source": [
        "**A) Decrease the Learning Rate from 0.01 to 0.001**"
      ]
    },
    {
      "cell_type": "code",
      "metadata": {
        "id": "-kkMxnjBEMQB",
        "colab_type": "code",
        "colab": {}
      },
      "source": [
        "# define model by calling the function created above\n",
        "model = simple_nn()\n",
        "\n",
        "# define optimizer\n",
        "sgd = SGD(lr = 0.001)\n",
        "\n",
        "# Compilig the model\n",
        "model.compile(optimizer=sgd, loss='mse', metrics=['accuracy'])"
      ],
      "execution_count": null,
      "outputs": []
    },
    {
      "cell_type": "code",
      "metadata": {
        "id": "c1tQEqjmEMue",
        "colab_type": "code",
        "colab": {
          "base_uri": "https://localhost:8080/",
          "height": 774
        },
        "outputId": "5e169e7e-9610-4b4c-99c0-d3e05e575b05"
      },
      "source": [
        "start = time.time()\n",
        "\n",
        "model_info = model.fit(train_features,train_labels,\n",
        "                       batch_size =64,\n",
        "                       epochs=10,\n",
        "                       verbose = 2,\n",
        "                       validation_split=0.2)\n",
        "end = time.time()\n",
        "\n",
        "#plot model\n",
        "\n",
        "plot_model_history(model_info)\n",
        "\n",
        "#Time taken\n",
        "total_time = round(end-start,2)\n",
        "print(\"\\n\\nModel took {} seconds to train\".format(total_time))\n",
        "\n",
        "#Compute the accuracy\n",
        "model_accuracy = accuracy(test_features, test_labels, model)\n",
        "print(\"Accuracy on Test data is : \", model_accuracy )"
      ],
      "execution_count": null,
      "outputs": [
        {
          "output_type": "stream",
          "text": [
            "Epoch 1/10\n",
            "750/750 - 2s - loss: 0.1957 - accuracy: 0.0864 - val_loss: 0.1492 - val_accuracy: 0.0983\n",
            "Epoch 2/10\n",
            "750/750 - 2s - loss: 0.1276 - accuracy: 0.1087 - val_loss: 0.1138 - val_accuracy: 0.1157\n",
            "Epoch 3/10\n",
            "750/750 - 2s - loss: 0.1070 - accuracy: 0.1263 - val_loss: 0.1023 - val_accuracy: 0.1341\n",
            "Epoch 4/10\n",
            "750/750 - 1s - loss: 0.0993 - accuracy: 0.1422 - val_loss: 0.0969 - val_accuracy: 0.1500\n",
            "Epoch 5/10\n",
            "750/750 - 1s - loss: 0.0953 - accuracy: 0.1573 - val_loss: 0.0939 - val_accuracy: 0.1673\n",
            "Epoch 6/10\n",
            "750/750 - 2s - loss: 0.0927 - accuracy: 0.1743 - val_loss: 0.0918 - val_accuracy: 0.1852\n",
            "Epoch 7/10\n",
            "750/750 - 2s - loss: 0.0909 - accuracy: 0.1926 - val_loss: 0.0902 - val_accuracy: 0.2038\n",
            "Epoch 8/10\n",
            "750/750 - 2s - loss: 0.0895 - accuracy: 0.2114 - val_loss: 0.0889 - val_accuracy: 0.2213\n",
            "Epoch 9/10\n",
            "750/750 - 1s - loss: 0.0883 - accuracy: 0.2294 - val_loss: 0.0878 - val_accuracy: 0.2395\n",
            "Epoch 10/10\n",
            "750/750 - 2s - loss: 0.0873 - accuracy: 0.2476 - val_loss: 0.0868 - val_accuracy: 0.2544\n"
          ],
          "name": "stdout"
        },
        {
          "output_type": "stream",
          "text": [
            "/usr/local/lib/python3.6/dist-packages/ipykernel_launcher.py:12: MatplotlibDeprecationWarning: Passing the minor parameter of set_xticks() positionally is deprecated since Matplotlib 3.2; the parameter will become keyword-only two minor releases later.\n",
            "  if sys.path[0] == '':\n",
            "/usr/local/lib/python3.6/dist-packages/ipykernel_launcher.py:24: MatplotlibDeprecationWarning: Passing the minor parameter of set_xticks() positionally is deprecated since Matplotlib 3.2; the parameter will become keyword-only two minor releases later.\n"
          ],
          "name": "stderr"
        },
        {
          "output_type": "display_data",
          "data": {
            "image/png": "[encoded data removed]",
            "text/plain": [
              "<Figure size 1080x360 with 2 Axes>"
            ]
          },
          "metadata": {
            "tags": [],
            "needs_background": "light"
          }
        },
        {
          "output_type": "stream",
          "text": [
            "\n",
            "\n",
            "Model took 15.6 seconds to train\n",
            "Accuracy on Test data is :  25.73\n"
          ],
          "name": "stdout"
        }
      ]
    },
    {
      "cell_type": "markdown",
      "metadata": {
        "id": "P985CB3iU3n0",
        "colab_type": "text"
      },
      "source": [
        "**B) Increase the learning rate to 0.1**"
      ]
    },
    {
      "cell_type": "code",
      "metadata": {
        "id": "VhPSAmB5ENAu",
        "colab_type": "code",
        "colab": {}
      },
      "source": [
        "# define model by calling the function created above\n",
        "model = simple_nn()\n",
        "\n",
        "# define optimizer\n",
        "sgd = SGD(lr = 0.1)\n",
        "\n",
        "# Compilig the model\n",
        "model.compile(optimizer=sgd, loss='mse', metrics=['accuracy'])"
      ],
      "execution_count": null,
      "outputs": []
    },
    {
      "cell_type": "code",
      "metadata": {
        "id": "PTfgp0aCENN-",
        "colab_type": "code",
        "colab": {
          "base_uri": "https://localhost:8080/",
          "height": 776
        },
        "outputId": "378b399e-ab6f-431e-fec1-13e146547197"
      },
      "source": [
        "start = time.time()\n",
        "\n",
        "model_info = model.fit(train_features,train_labels,\n",
        "                       batch_size =64,\n",
        "                       epochs=10,\n",
        "                       verbose = 2,\n",
        "                       validation_split=0.2)\n",
        "end = time.time()\n",
        "\n",
        "#plot model\n",
        "\n",
        "plot_model_history(model_info)\n",
        "\n",
        "#Time taken\n",
        "total_time = round(end-start,2)\n",
        "print(\"\\n\\nModel took {} seconds to train\".format(total_time))\n",
        "\n",
        "#Compute the accuracy\n",
        "model_accuracy = accuracy(test_features, test_labels, model)\n",
        "print(\"Accuracy on Test data is : \", model_accuracy )"
      ],
      "execution_count": null,
      "outputs": [
        {
          "output_type": "stream",
          "text": [
            "Epoch 1/10\n",
            "750/750 - 2s - loss: 0.0636 - accuracy: 0.6157 - val_loss: 0.0450 - val_accuracy: 0.7926\n",
            "Epoch 2/10\n",
            "750/750 - 2s - loss: 0.0391 - accuracy: 0.8250 - val_loss: 0.0324 - val_accuracy: 0.8621\n",
            "Epoch 3/10\n",
            "750/750 - 2s - loss: 0.0305 - accuracy: 0.8657 - val_loss: 0.0265 - val_accuracy: 0.8848\n",
            "Epoch 4/10\n",
            "750/750 - 2s - loss: 0.0258 - accuracy: 0.8845 - val_loss: 0.0232 - val_accuracy: 0.8976\n",
            "Epoch 5/10\n",
            "750/750 - 2s - loss: 0.0229 - accuracy: 0.8926 - val_loss: 0.0209 - val_accuracy: 0.9030\n",
            "Epoch 6/10\n",
            "750/750 - 2s - loss: 0.0209 - accuracy: 0.9015 - val_loss: 0.0196 - val_accuracy: 0.9080\n",
            "Epoch 7/10\n",
            "750/750 - 2s - loss: 0.0195 - accuracy: 0.9053 - val_loss: 0.0181 - val_accuracy: 0.9093\n",
            "Epoch 8/10\n",
            "750/750 - 1s - loss: 0.0183 - accuracy: 0.9103 - val_loss: 0.0172 - val_accuracy: 0.9147\n",
            "Epoch 9/10\n",
            "750/750 - 2s - loss: 0.0174 - accuracy: 0.9127 - val_loss: 0.0164 - val_accuracy: 0.9183\n",
            "Epoch 10/10\n",
            "750/750 - 1s - loss: 0.0166 - accuracy: 0.9168 - val_loss: 0.0159 - val_accuracy: 0.9212\n"
          ],
          "name": "stdout"
        },
        {
          "output_type": "stream",
          "text": [
            "/usr/local/lib/python3.6/dist-packages/ipykernel_launcher.py:12: MatplotlibDeprecationWarning: Passing the minor parameter of set_xticks() positionally is deprecated since Matplotlib 3.2; the parameter will become keyword-only two minor releases later.\n",
            "  if sys.path[0] == '':\n",
            "/usr/local/lib/python3.6/dist-packages/ipykernel_launcher.py:24: MatplotlibDeprecationWarning: Passing the minor parameter of set_xticks() positionally is deprecated since Matplotlib 3.2; the parameter will become keyword-only two minor releases later.\n"
          ],
          "name": "stderr"
        },
        {
          "output_type": "display_data",
          "data": {
            "image/png": "[encoded data removed]",
            "text/plain": [
              "<Figure size 1080x360 with 2 Axes>"
            ]
          },
          "metadata": {
            "tags": [],
            "needs_background": "light"
          }
        },
        {
          "output_type": "stream",
          "text": [
            "\n",
            "\n",
            "Model took 15.72 seconds to train\n",
            "Accuracy on Test data is :  92.04\n"
          ],
          "name": "stdout"
        }
      ]
    },
    {
      "cell_type": "markdown",
      "metadata": {
        "id": "F4yqO-xeESfD",
        "colab_type": "text"
      },
      "source": [
        "## 3. Use Adam optimizer instead of SGD"
      ]
    },
    {
      "cell_type": "code",
      "metadata": {
        "id": "s_WUNLrCEZYi",
        "colab_type": "code",
        "colab": {
          "base_uri": "https://localhost:8080/",
          "height": 241
        },
        "outputId": "85d5c46d-0b85-49fa-85fa-90f61978c8ea"
      },
      "source": [
        "# define model by calling the function created above\n",
        "model = simple_nn()\n",
        "\n",
        "# Compilig the model\n",
        "model.compile(optimizer=\"adam\", loss='mse', metrics=['accuracy'])\n",
        "\n",
        "#print model information\n",
        "model.summary()"
      ],
      "execution_count": null,
      "outputs": [
        {
          "output_type": "stream",
          "text": [
            "Model: \"sequential_3\"\n",
            "_________________________________________________________________\n",
            "Layer (type)                 Output Shape              Param #   \n",
            "=================================================================\n",
            "dense_6 (Dense)              (None, 100)               78500     \n",
            "_________________________________________________________________\n",
            "dense_7 (Dense)              (None, 10)                1010      \n",
            "=================================================================\n",
            "Total params: 79,510\n",
            "Trainable params: 79,510\n",
            "Non-trainable params: 0\n",
            "_________________________________________________________________\n"
          ],
          "name": "stdout"
        }
      ]
    },
    {
      "cell_type": "markdown",
      "metadata": {
        "id": "xTNdrV7nFQdR",
        "colab_type": "text"
      },
      "source": [
        "## 4. Vary the Batch Size"
      ]
    },
    {
      "cell_type": "markdown",
      "metadata": {
        "id": "Xd2y3b-gFU2n",
        "colab_type": "text"
      },
      "source": [
        "A)Decrease the batch size to- 32"
      ]
    },
    {
      "cell_type": "code",
      "metadata": {
        "id": "Co1J_KNMFb-2",
        "colab_type": "code",
        "colab": {}
      },
      "source": [
        "# define model by calling the function created above\n",
        "model = simple_nn()\n",
        "\n",
        "# Compilig the model\n",
        "model.compile(optimizer=\"adam\", loss='mse', metrics=['accuracy'])"
      ],
      "execution_count": null,
      "outputs": []
    },
    {
      "cell_type": "code",
      "metadata": {
        "id": "qrGBqEpjF9rE",
        "colab_type": "code",
        "colab": {
          "base_uri": "https://localhost:8080/",
          "height": 485
        },
        "outputId": "a294c282-b9e3-44a0-90ce-6f471c73cf54"
      },
      "source": [
        "start = time.time()\n",
        "\n",
        "model_info = model.fit(train_features,train_labels,\n",
        "                       batch_size =32,\n",
        "                       epochs=10,\n",
        "                       verbose = 2,\n",
        "                       validation_split=0.2)\n",
        "end = time.time()\n",
        "total_time = round(end-start,2)\n",
        "print(\"\\n\\nModel took {} seconds to train\".format(total_time))\n",
        "\n",
        "#Compute the accuracy\n",
        "model_accuracy = accuracy(test_features, test_labels, model)\n",
        "print(\"Accuracy on Test data is : \", model_accuracy )"
      ],
      "execution_count": null,
      "outputs": [
        {
          "output_type": "stream",
          "text": [
            "Epoch 1/10\n",
            "1500/1500 - 3s - loss: 0.0358 - accuracy: 0.8087 - val_loss: 0.0206 - val_accuracy: 0.8918\n",
            "Epoch 2/10\n",
            "1500/1500 - 3s - loss: 0.0212 - accuracy: 0.8859 - val_loss: 0.0189 - val_accuracy: 0.9013\n",
            "Epoch 3/10\n",
            "1500/1500 - 3s - loss: 0.0190 - accuracy: 0.8953 - val_loss: 0.0182 - val_accuracy: 0.8991\n",
            "Epoch 4/10\n",
            "1500/1500 - 3s - loss: 0.0176 - accuracy: 0.9005 - val_loss: 0.0163 - val_accuracy: 0.9095\n",
            "Epoch 5/10\n",
            "1500/1500 - 3s - loss: 0.0165 - accuracy: 0.9071 - val_loss: 0.0152 - val_accuracy: 0.9129\n",
            "Epoch 6/10\n",
            "1500/1500 - 3s - loss: 0.0164 - accuracy: 0.9047 - val_loss: 0.0150 - val_accuracy: 0.9109\n",
            "Epoch 7/10\n",
            "1500/1500 - 3s - loss: 0.0154 - accuracy: 0.9095 - val_loss: 0.0142 - val_accuracy: 0.9177\n",
            "Epoch 8/10\n",
            "1500/1500 - 3s - loss: 0.0150 - accuracy: 0.9134 - val_loss: 0.0149 - val_accuracy: 0.9143\n",
            "Epoch 9/10\n",
            "1500/1500 - 3s - loss: 0.0151 - accuracy: 0.9143 - val_loss: 0.0137 - val_accuracy: 0.9199\n",
            "Epoch 10/10\n",
            "1500/1500 - 3s - loss: 0.0145 - accuracy: 0.9158 - val_loss: 0.0137 - val_accuracy: 0.9205\n",
            "\n",
            "\n",
            "Model took 27.54 seconds to train\n",
            "Accuracy on Test data is :  91.88\n"
          ],
          "name": "stdout"
        }
      ]
    },
    {
      "cell_type": "markdown",
      "metadata": {
        "id": "UgMoBDKRGS5n",
        "colab_type": "text"
      },
      "source": [
        "B) Increasing the batch size to - 128"
      ]
    },
    {
      "cell_type": "code",
      "metadata": {
        "id": "2EWZCYaQGRQE",
        "colab_type": "code",
        "colab": {}
      },
      "source": [
        "# define model by calling the function created above\n",
        "model = simple_nn()\n",
        "\n",
        "# Compilig the model\n",
        "model.compile(optimizer=\"adam\", loss='mse', metrics=['accuracy'])"
      ],
      "execution_count": null,
      "outputs": []
    },
    {
      "cell_type": "code",
      "metadata": {
        "id": "ossNFszpGeDg",
        "colab_type": "code",
        "colab": {
          "base_uri": "https://localhost:8080/",
          "height": 485
        },
        "outputId": "fab32165-7c55-4920-fcec-c6d4a20be8fc"
      },
      "source": [
        "start = time.time()\n",
        "\n",
        "model_info = model.fit(train_features,train_labels,\n",
        "                       batch_size =128,\n",
        "                       epochs=10,\n",
        "                       verbose = 2,\n",
        "                       validation_split=0.2)\n",
        "end = time.time()\n",
        "total_time = round(end-start,2)\n",
        "print(\"\\n\\nModel took {} seconds to train\".format(total_time))\n",
        "model_accuracy = accuracy(test_features, test_labels, model)\n",
        "print(\"Accuracy on Test data is : \", model_accuracy )"
      ],
      "execution_count": null,
      "outputs": [
        {
          "output_type": "stream",
          "text": [
            "Epoch 1/10\n",
            "375/375 - 2s - loss: 0.0480 - accuracy: 0.7440 - val_loss: 0.0257 - val_accuracy: 0.8859\n",
            "Epoch 2/10\n",
            "375/375 - 2s - loss: 0.0222 - accuracy: 0.8930 - val_loss: 0.0178 - val_accuracy: 0.9087\n",
            "Epoch 3/10\n",
            "375/375 - 1s - loss: 0.0177 - accuracy: 0.9073 - val_loss: 0.0161 - val_accuracy: 0.9167\n",
            "Epoch 4/10\n",
            "375/375 - 1s - loss: 0.0158 - accuracy: 0.9164 - val_loss: 0.0145 - val_accuracy: 0.9227\n",
            "Epoch 5/10\n",
            "375/375 - 1s - loss: 0.0146 - accuracy: 0.9207 - val_loss: 0.0134 - val_accuracy: 0.9254\n",
            "Epoch 6/10\n",
            "375/375 - 1s - loss: 0.0138 - accuracy: 0.9247 - val_loss: 0.0132 - val_accuracy: 0.9244\n",
            "Epoch 7/10\n",
            "375/375 - 1s - loss: 0.0134 - accuracy: 0.9264 - val_loss: 0.0130 - val_accuracy: 0.9267\n",
            "Epoch 8/10\n",
            "375/375 - 1s - loss: 0.0127 - accuracy: 0.9290 - val_loss: 0.0121 - val_accuracy: 0.9317\n",
            "Epoch 9/10\n",
            "375/375 - 1s - loss: 0.0123 - accuracy: 0.9318 - val_loss: 0.0113 - val_accuracy: 0.9390\n",
            "Epoch 10/10\n",
            "375/375 - 1s - loss: 0.0118 - accuracy: 0.9335 - val_loss: 0.0115 - val_accuracy: 0.9354\n",
            "\n",
            "\n",
            "Model took 13.62 seconds to train\n",
            "Accuracy on Test data is :  93.25\n"
          ],
          "name": "stdout"
        }
      ]
    },
    {
      "cell_type": "markdown",
      "metadata": {
        "id": "hPCcmzVyHIsF",
        "colab_type": "text"
      },
      "source": [
        "Observation\n",
        "Increasing the batch size **decreases the training time but reduces the rate of learning**"
      ]
    },
    {
      "cell_type": "markdown",
      "metadata": {
        "id": "rh5zaqbjHZFe",
        "colab_type": "text"
      },
      "source": [
        "**5. Cost Function as Categorical Crossentropy**"
      ]
    },
    {
      "cell_type": "code",
      "metadata": {
        "id": "2J9dXRyAHj2C",
        "colab_type": "code",
        "colab": {}
      },
      "source": [
        "# define model by calling the function created above\n",
        "model = simple_nn()\n",
        "\n",
        "# Compilig the model\n",
        "model.compile(optimizer=\"adam\", loss='categorical_crossentropy', metrics=['accuracy'])"
      ],
      "execution_count": null,
      "outputs": []
    },
    {
      "cell_type": "markdown",
      "metadata": {
        "id": "JubmctkNI7zi",
        "colab_type": "text"
      },
      "source": [
        "Fitting the mode"
      ]
    },
    {
      "cell_type": "code",
      "metadata": {
        "id": "YxsccsLCI-Z_",
        "colab_type": "code",
        "colab": {
          "base_uri": "https://localhost:8080/",
          "height": 485
        },
        "outputId": "4ae4188b-81ce-4d67-e0a7-8691d8bba2c7"
      },
      "source": [
        "start = time.time()\n",
        "\n",
        "model_info = model.fit(train_features,train_labels,\n",
        "                       batch_size =128,\n",
        "                       epochs=10,\n",
        "                       verbose = 2,\n",
        "                       validation_split=0.2)\n",
        "end = time.time()\n",
        "total_time = round(end-start,2)\n",
        "print(\"\\n\\nModel took {} seconds to train\".format(total_time))\n",
        "model_accuracy = accuracy(test_features, test_labels, model)\n",
        "print(\"Accuracy on Test data is : \", model_accuracy )"
      ],
      "execution_count": null,
      "outputs": [
        {
          "output_type": "stream",
          "text": [
            "Epoch 1/10\n",
            "375/375 - 1s - loss: 0.8435 - accuracy: 0.7925 - val_loss: 0.4151 - val_accuracy: 0.8968\n",
            "Epoch 2/10\n",
            "375/375 - 1s - loss: 0.3818 - accuracy: 0.8976 - val_loss: 0.3255 - val_accuracy: 0.9133\n",
            "Epoch 3/10\n",
            "375/375 - 1s - loss: 0.3241 - accuracy: 0.9091 - val_loss: 0.2830 - val_accuracy: 0.9229\n",
            "Epoch 4/10\n",
            "375/375 - 1s - loss: 0.2958 - accuracy: 0.9176 - val_loss: 0.2717 - val_accuracy: 0.9230\n",
            "Epoch 5/10\n",
            "375/375 - 1s - loss: 0.2822 - accuracy: 0.9197 - val_loss: 0.2584 - val_accuracy: 0.9257\n",
            "Epoch 6/10\n",
            "375/375 - 1s - loss: 0.2739 - accuracy: 0.9214 - val_loss: 0.2646 - val_accuracy: 0.9222\n",
            "Epoch 7/10\n",
            "375/375 - 1s - loss: 0.2561 - accuracy: 0.9252 - val_loss: 0.2488 - val_accuracy: 0.9289\n",
            "Epoch 8/10\n",
            "375/375 - 1s - loss: 0.2568 - accuracy: 0.9240 - val_loss: 0.2437 - val_accuracy: 0.9288\n",
            "Epoch 9/10\n",
            "375/375 - 1s - loss: 0.2393 - accuracy: 0.9295 - val_loss: 0.2293 - val_accuracy: 0.9332\n",
            "Epoch 10/10\n",
            "375/375 - 1s - loss: 0.2316 - accuracy: 0.9317 - val_loss: 0.2245 - val_accuracy: 0.9340\n",
            "\n",
            "\n",
            "Model took 13.19 seconds to train\n",
            "Accuracy on Test data is :  93.11\n"
          ],
          "name": "stdout"
        }
      ]
    },
    {
      "cell_type": "markdown",
      "metadata": {
        "id": "m7xOG_iZJ6CS",
        "colab_type": "text"
      },
      "source": [
        "## Observation:-\n",
        "\n",
        "*   Changing the cost function to categorical cross entropy \n",
        "*   List item\n",
        "\n",
        "\n"
      ]
    },
    {
      "cell_type": "markdown",
      "metadata": {
        "id": "clWJZ4T7K9x5",
        "colab_type": "text"
      },
      "source": [
        "**^. Increase the number of epochs**"
      ]
    },
    {
      "cell_type": "code",
      "metadata": {
        "id": "SWs7vlBcLMAa",
        "colab_type": "code",
        "colab": {}
      },
      "source": [
        "# define model by calling the function created above\n",
        "model = simple_nn()\n",
        "\n",
        "# Compilig the model\n",
        "model.compile(optimizer=\"adam\", loss='categorical_crossentropy', metrics=['accuracy'])"
      ],
      "execution_count": null,
      "outputs": []
    },
    {
      "cell_type": "markdown",
      "metadata": {
        "id": "cq6_hbJGLPYL",
        "colab_type": "text"
      },
      "source": [
        ""
      ]
    },
    {
      "cell_type": "code",
      "metadata": {
        "id": "vOEEhfZQLPrg",
        "colab_type": "code",
        "colab": {
          "base_uri": "https://localhost:8080/",
          "height": 1000
        },
        "outputId": "031d975a-3562-4237-cd15-abd4849db94b"
      },
      "source": [
        "start = time.time()\n",
        "\n",
        "model_info = model.fit(train_features,train_labels,\n",
        "                       batch_size =128,\n",
        "                       epochs=50,\n",
        "                       verbose = 2,\n",
        "                       validation_split=0.2)\n",
        "end = time.time()\n",
        "total_time = round(end-start,2)\n",
        "print(\"\\n\\nModel took {} seconds to train\".format(total_time))\n",
        "model_accuracy = accuracy(test_features, test_labels, model)\n",
        "print(\"Accuracy on Test data is : \", model_accuracy )"
      ],
      "execution_count": null,
      "outputs": [
        {
          "output_type": "stream",
          "text": [
            "Epoch 1/50\n",
            "375/375 - 1s - loss: 0.7913 - accuracy: 0.8147 - val_loss: 0.4089 - val_accuracy: 0.8982\n",
            "Epoch 2/50\n",
            "375/375 - 1s - loss: 0.3797 - accuracy: 0.8974 - val_loss: 0.3337 - val_accuracy: 0.9116\n",
            "Epoch 3/50\n",
            "375/375 - 1s - loss: 0.3222 - accuracy: 0.9092 - val_loss: 0.2935 - val_accuracy: 0.9160\n",
            "Epoch 4/50\n",
            "375/375 - 1s - loss: 0.3006 - accuracy: 0.9139 - val_loss: 0.2724 - val_accuracy: 0.9211\n",
            "Epoch 5/50\n",
            "375/375 - 1s - loss: 0.2812 - accuracy: 0.9183 - val_loss: 0.2582 - val_accuracy: 0.9244\n",
            "Epoch 6/50\n",
            "375/375 - 1s - loss: 0.2631 - accuracy: 0.9241 - val_loss: 0.2402 - val_accuracy: 0.9323\n",
            "Epoch 7/50\n",
            "375/375 - 1s - loss: 0.2545 - accuracy: 0.9251 - val_loss: 0.2475 - val_accuracy: 0.9300\n",
            "Epoch 8/50\n",
            "375/375 - 1s - loss: 0.2372 - accuracy: 0.9302 - val_loss: 0.2420 - val_accuracy: 0.9303\n",
            "Epoch 9/50\n",
            "375/375 - 1s - loss: 0.2348 - accuracy: 0.9315 - val_loss: 0.2257 - val_accuracy: 0.9334\n",
            "Epoch 10/50\n",
            "375/375 - 1s - loss: 0.2301 - accuracy: 0.9321 - val_loss: 0.2203 - val_accuracy: 0.9358\n",
            "Epoch 11/50\n",
            "375/375 - 1s - loss: 0.2225 - accuracy: 0.9339 - val_loss: 0.2080 - val_accuracy: 0.9374\n",
            "Epoch 12/50\n",
            "375/375 - 1s - loss: 0.2137 - accuracy: 0.9360 - val_loss: 0.2089 - val_accuracy: 0.9373\n",
            "Epoch 13/50\n",
            "375/375 - 1s - loss: 0.2166 - accuracy: 0.9355 - val_loss: 0.2213 - val_accuracy: 0.9331\n",
            "Epoch 14/50\n",
            "375/375 - 1s - loss: 0.2100 - accuracy: 0.9370 - val_loss: 0.2151 - val_accuracy: 0.9367\n",
            "Epoch 15/50\n",
            "375/375 - 1s - loss: 0.2064 - accuracy: 0.9382 - val_loss: 0.2028 - val_accuracy: 0.9401\n",
            "Epoch 16/50\n",
            "375/375 - 1s - loss: 0.2041 - accuracy: 0.9380 - val_loss: 0.2079 - val_accuracy: 0.9412\n",
            "Epoch 17/50\n",
            "375/375 - 1s - loss: 0.1979 - accuracy: 0.9414 - val_loss: 0.1993 - val_accuracy: 0.9417\n",
            "Epoch 18/50\n",
            "375/375 - 1s - loss: 0.1912 - accuracy: 0.9427 - val_loss: 0.1917 - val_accuracy: 0.9433\n",
            "Epoch 19/50\n",
            "375/375 - 1s - loss: 0.1985 - accuracy: 0.9403 - val_loss: 0.1956 - val_accuracy: 0.9416\n",
            "Epoch 20/50\n",
            "375/375 - 1s - loss: 0.1967 - accuracy: 0.9398 - val_loss: 0.1980 - val_accuracy: 0.9417\n",
            "Epoch 21/50\n",
            "375/375 - 1s - loss: 0.1932 - accuracy: 0.9419 - val_loss: 0.2063 - val_accuracy: 0.9413\n",
            "Epoch 22/50\n",
            "375/375 - 1s - loss: 0.1929 - accuracy: 0.9415 - val_loss: 0.1866 - val_accuracy: 0.9427\n",
            "Epoch 23/50\n",
            "375/375 - 1s - loss: 0.1791 - accuracy: 0.9450 - val_loss: 0.1916 - val_accuracy: 0.9421\n",
            "Epoch 24/50\n",
            "375/375 - 1s - loss: 0.1899 - accuracy: 0.9430 - val_loss: 0.1949 - val_accuracy: 0.9408\n",
            "Epoch 25/50\n",
            "375/375 - 1s - loss: 0.1869 - accuracy: 0.9429 - val_loss: 0.1973 - val_accuracy: 0.9393\n",
            "Epoch 26/50\n",
            "375/375 - 1s - loss: 0.1858 - accuracy: 0.9432 - val_loss: 0.1899 - val_accuracy: 0.9436\n",
            "Epoch 27/50\n",
            "375/375 - 1s - loss: 0.1797 - accuracy: 0.9451 - val_loss: 0.1963 - val_accuracy: 0.9413\n",
            "Epoch 28/50\n",
            "375/375 - 1s - loss: 0.1731 - accuracy: 0.9469 - val_loss: 0.1871 - val_accuracy: 0.9423\n",
            "Epoch 29/50\n",
            "375/375 - 1s - loss: 0.1794 - accuracy: 0.9463 - val_loss: 0.1864 - val_accuracy: 0.9470\n",
            "Epoch 30/50\n",
            "375/375 - 1s - loss: 0.1749 - accuracy: 0.9486 - val_loss: 0.1845 - val_accuracy: 0.9459\n",
            "Epoch 31/50\n",
            "375/375 - 1s - loss: 0.1690 - accuracy: 0.9494 - val_loss: 0.1748 - val_accuracy: 0.9486\n",
            "Epoch 32/50\n",
            "375/375 - 1s - loss: 0.1655 - accuracy: 0.9498 - val_loss: 0.1746 - val_accuracy: 0.9482\n",
            "Epoch 33/50\n",
            "375/375 - 1s - loss: 0.1664 - accuracy: 0.9493 - val_loss: 0.1854 - val_accuracy: 0.9450\n",
            "Epoch 34/50\n",
            "375/375 - 1s - loss: 0.1710 - accuracy: 0.9476 - val_loss: 0.1867 - val_accuracy: 0.9462\n",
            "Epoch 35/50\n",
            "375/375 - 1s - loss: 0.1653 - accuracy: 0.9495 - val_loss: 0.1775 - val_accuracy: 0.9475\n",
            "Epoch 36/50\n",
            "375/375 - 1s - loss: 0.1636 - accuracy: 0.9506 - val_loss: 0.1759 - val_accuracy: 0.9473\n",
            "Epoch 37/50\n",
            "375/375 - 1s - loss: 0.1730 - accuracy: 0.9466 - val_loss: 0.1899 - val_accuracy: 0.9420\n",
            "Epoch 38/50\n",
            "375/375 - 1s - loss: 0.1653 - accuracy: 0.9496 - val_loss: 0.1820 - val_accuracy: 0.9470\n",
            "Epoch 39/50\n",
            "375/375 - 1s - loss: 0.1585 - accuracy: 0.9511 - val_loss: 0.1775 - val_accuracy: 0.9480\n",
            "Epoch 40/50\n",
            "375/375 - 1s - loss: 0.1547 - accuracy: 0.9524 - val_loss: 0.1814 - val_accuracy: 0.9462\n",
            "Epoch 41/50\n",
            "375/375 - 1s - loss: 0.1654 - accuracy: 0.9481 - val_loss: 0.1728 - val_accuracy: 0.9472\n",
            "Epoch 42/50\n",
            "375/375 - 1s - loss: 0.1608 - accuracy: 0.9494 - val_loss: 0.1739 - val_accuracy: 0.9500\n",
            "Epoch 43/50\n",
            "375/375 - 1s - loss: 0.1566 - accuracy: 0.9515 - val_loss: 0.1762 - val_accuracy: 0.9488\n",
            "Epoch 44/50\n",
            "375/375 - 1s - loss: 0.1581 - accuracy: 0.9510 - val_loss: 0.1693 - val_accuracy: 0.9501\n",
            "Epoch 45/50\n",
            "375/375 - 1s - loss: 0.1521 - accuracy: 0.9521 - val_loss: 0.1757 - val_accuracy: 0.9467\n",
            "Epoch 46/50\n",
            "375/375 - 2s - loss: 0.1543 - accuracy: 0.9521 - val_loss: 0.1763 - val_accuracy: 0.9483\n",
            "Epoch 47/50\n",
            "375/375 - 2s - loss: 0.1626 - accuracy: 0.9490 - val_loss: 0.1768 - val_accuracy: 0.9470\n",
            "Epoch 48/50\n",
            "375/375 - 2s - loss: 0.1535 - accuracy: 0.9523 - val_loss: 0.1761 - val_accuracy: 0.9482\n",
            "Epoch 49/50\n",
            "375/375 - 2s - loss: 0.1493 - accuracy: 0.9536 - val_loss: 0.1722 - val_accuracy: 0.9467\n",
            "Epoch 50/50\n",
            "375/375 - 2s - loss: 0.1438 - accuracy: 0.9551 - val_loss: 0.1693 - val_accuracy: 0.9484\n",
            "\n",
            "\n",
            "Model took 65.18 seconds to train\n",
            "Accuracy on Test data is :  95.07\n"
          ],
          "name": "stdout"
        }
      ]
    },
    {
      "cell_type": "markdown",
      "metadata": {
        "id": "ot0fbtB5PInU",
        "colab_type": "text"
      },
      "source": [
        "## 7. Deep Neural Network\n",
        "Let's define Deep Neural Network Model"
      ]
    },
    {
      "cell_type": "code",
      "metadata": {
        "id": "cpbVxUf8PGWu",
        "colab_type": "code",
        "colab": {}
      },
      "source": [
        "def deep_nn():\n",
        "  # initialize model\n",
        "  model = Sequential()\n",
        "\n",
        "  #add an input layer and a hidden layer\n",
        "  model.add(Dense(units=512,activation='relu', input_dim= num_input_nodes))\n",
        "  model.add(Dense(units=256,activation='relu'))\n",
        "  model.add(Dense(units=128,activation='relu'))\n",
        "  model.add(Dense(units=64,activation='relu'))\n",
        "\n",
        "  #add output layers\n",
        "  model.add(Dense(units=num_classes, activation='softmax'))\n",
        "  return model"
      ],
      "execution_count": null,
      "outputs": []
    },
    {
      "cell_type": "markdown",
      "metadata": {
        "id": "-SF0VkvHQCpN",
        "colab_type": "text"
      },
      "source": [
        "Compile the model"
      ]
    },
    {
      "cell_type": "code",
      "metadata": {
        "id": "4SXWj4-mQFJK",
        "colab_type": "code",
        "colab": {
          "base_uri": "https://localhost:8080/",
          "height": 353
        },
        "outputId": "1c210764-fad2-4618-f37e-4ea3353b0318"
      },
      "source": [
        "model = deep_nn()\n",
        "\n",
        "# define optimizer\n",
        "sgd = SGD(lr = 0.1)\n",
        "\n",
        "# Compilig the model\n",
        "model.compile(optimizer=sgd, loss='mse', metrics=['accuracy'])\n",
        "\n",
        "#print model information\n",
        "model.summary()"
      ],
      "execution_count": null,
      "outputs": [
        {
          "output_type": "stream",
          "text": [
            "Model: \"sequential_8\"\n",
            "_________________________________________________________________\n",
            "Layer (type)                 Output Shape              Param #   \n",
            "=================================================================\n",
            "dense_16 (Dense)             (None, 512)               401920    \n",
            "_________________________________________________________________\n",
            "dense_17 (Dense)             (None, 256)               131328    \n",
            "_________________________________________________________________\n",
            "dense_18 (Dense)             (None, 128)               32896     \n",
            "_________________________________________________________________\n",
            "dense_19 (Dense)             (None, 64)                8256      \n",
            "_________________________________________________________________\n",
            "dense_20 (Dense)             (None, 10)                650       \n",
            "=================================================================\n",
            "Total params: 575,050\n",
            "Trainable params: 575,050\n",
            "Non-trainable params: 0\n",
            "_________________________________________________________________\n"
          ],
          "name": "stdout"
        }
      ]
    },
    {
      "cell_type": "markdown",
      "metadata": {
        "id": "f165VNsqRJCK",
        "colab_type": "text"
      },
      "source": [
        "Fitting the model"
      ]
    },
    {
      "cell_type": "code",
      "metadata": {
        "id": "oyXIw-KRRvoG",
        "colab_type": "code",
        "colab": {
          "base_uri": "https://localhost:8080/",
          "height": 485
        },
        "outputId": "53a35b3a-10a0-40fe-a63e-9fdfd8512f81"
      },
      "source": [
        "start = time.time()\n",
        "\n",
        "model_info = model.fit(train_features,train_labels,\n",
        "                       batch_size =128,\n",
        "                       epochs=10,\n",
        "                       verbose = 2,\n",
        "                       validation_split=0.2)\n",
        "end = time.time()\n",
        "total_time = round(end-start,2)\n",
        "print(\"\\n\\nModel took {} seconds to train\".format(total_time))\n",
        "\n",
        "model_accuracy = accuracy(test_features, test_labels, model)\n",
        "print(\"Accuracy on Test data is : \", model_accuracy )"
      ],
      "execution_count": null,
      "outputs": [
        {
          "output_type": "stream",
          "text": [
            "Epoch 1/10\n",
            "375/375 - 5s - loss: 0.1424 - accuracy: 0.2834 - val_loss: 0.1325 - val_accuracy: 0.3339\n",
            "Epoch 2/10\n",
            "375/375 - 5s - loss: 0.1290 - accuracy: 0.3525 - val_loss: 0.1269 - val_accuracy: 0.3636\n",
            "Epoch 3/10\n",
            "375/375 - 4s - loss: 0.1281 - accuracy: 0.3561 - val_loss: 0.1271 - val_accuracy: 0.3619\n",
            "Epoch 4/10\n",
            "375/375 - 4s - loss: 0.1276 - accuracy: 0.3600 - val_loss: 0.1272 - val_accuracy: 0.3610\n",
            "Epoch 5/10\n",
            "375/375 - 4s - loss: 0.1270 - accuracy: 0.3630 - val_loss: 0.1280 - val_accuracy: 0.3588\n",
            "Epoch 6/10\n",
            "375/375 - 4s - loss: 0.1112 - accuracy: 0.4403 - val_loss: 0.0980 - val_accuracy: 0.5058\n",
            "Epoch 7/10\n",
            "375/375 - 4s - loss: 0.0935 - accuracy: 0.5287 - val_loss: 0.0826 - val_accuracy: 0.5805\n",
            "Epoch 8/10\n",
            "375/375 - 4s - loss: 0.0589 - accuracy: 0.7016 - val_loss: 0.0551 - val_accuracy: 0.7193\n",
            "Epoch 9/10\n",
            "375/375 - 4s - loss: 0.0403 - accuracy: 0.7955 - val_loss: 0.0346 - val_accuracy: 0.8245\n",
            "Epoch 10/10\n",
            "375/375 - 4s - loss: 0.0362 - accuracy: 0.8164 - val_loss: 0.0339 - val_accuracy: 0.8278\n",
            "\n",
            "\n",
            "Model took 43.11 seconds to train\n",
            "Accuracy on Test data is :  82.88\n"
          ],
          "name": "stdout"
        }
      ]
    },
    {
      "cell_type": "markdown",
      "metadata": {
        "id": "QsDBhCjdSerT",
        "colab_type": "text"
      },
      "source": [
        "**Observation :**\n",
        "\n",
        "\n",
        "*   By adding more hidden layers, training time as well as information learned in each epoch inceases.\n",
        "*   It helps to improve the complex task but may not help significantly for relatively simple dataset such as MNIST.\n",
        "\n"
      ]
    },
    {
      "cell_type": "markdown",
      "metadata": {
        "id": "Q5VroQ2cSkFY",
        "colab_type": "text"
      },
      "source": [
        "**8. Save the model**"
      ]
    },
    {
      "cell_type": "markdown",
      "metadata": {
        "id": "fhihHp4QTK4s",
        "colab_type": "text"
      },
      "source": [
        "A) First Model\n",
        "Specify the directory to save the model"
      ]
    },
    {
      "cell_type": "code",
      "metadata": {
        "id": "zOn5nCLUTj9H",
        "colab_type": "code",
        "colab": {
          "base_uri": "https://localhost:8080/",
          "height": 36
        },
        "outputId": "4f37d3d5-ca8d-4b8f-b944-9dfc8f92d2e9"
      },
      "source": [
        "import os\n",
        "\n",
        "model = deep_nn()\n",
        "\n",
        "# define optimizer\n",
        "sgd = SGD(lr = 0.1)\n",
        "\n",
        "# Compilig the model\n",
        "model.compile(optimizer=sgd, loss='mse', metrics=['accuracy'])\n",
        "\n",
        "#checkpoint\n",
        "outputFolder = './output_mnist'\n",
        "\n",
        "if not os.path.exists(outputFolder):\n",
        "  os.makedirs(outputFolder)\n",
        "\n",
        "filepath = outputFolder + \"/weights.hdf5\"   #use to store the best esitmated weights.\n",
        "print(filepath)"
      ],
      "execution_count": null,
      "outputs": [
        {
          "output_type": "stream",
          "text": [
            "./output_mnist/weights.hdf5\n"
          ],
          "name": "stdout"
        }
      ]
    },
    {
      "cell_type": "markdown",
      "metadata": {
        "id": "Ls7SSsdUV7fN",
        "colab_type": "text"
      },
      "source": [
        "**Checkpoint the model and \"save_best_only\" model after evry epoch.**"
      ]
    },
    {
      "cell_type": "code",
      "metadata": {
        "id": "ojEBjbb_Wzge",
        "colab_type": "code",
        "colab": {
          "base_uri": "https://localhost:8080/",
          "height": 784
        },
        "outputId": "35e49cc0-0f9e-4b7c-f7cb-000532449640"
      },
      "source": [
        "from keras.callbacks import ModelCheckpoint\n",
        "\n",
        "checkpoint_callback = ModelCheckpoint(filepath,\n",
        "                                      save_weights_only=True,\n",
        "                                      monitor='val_accuracy',\n",
        "                                      mode='auto',verbose=1,\n",
        "                                      save_best_only=True)\n",
        " \n",
        "callbacks_list = [checkpoint_callback]\n",
        "\n",
        "#train the model\n",
        "\n",
        "model_info = model.fit(train_features,train_labels,\n",
        "                       batch_size =128,\n",
        "                       epochs=10,\n",
        "                       callbacks= callbacks_list,\n",
        "                       verbose = 1,\n",
        "                       validation_split=0.2)\n",
        "\n",
        "model.load_weights(filepath)\n"
      ],
      "execution_count": null,
      "outputs": [
        {
          "output_type": "stream",
          "text": [
            "Epoch 1/10\n",
            "375/375 [==============================] - ETA: 0s - loss: 0.1818 - accuracy: 0.0905\n",
            "Epoch 00001: val_accuracy improved from -inf to 0.09142, saving model to ./output_mnist/weights.hdf5\n",
            "375/375 [==============================] - 5s 13ms/step - loss: 0.1818 - accuracy: 0.0905 - val_loss: 0.1817 - val_accuracy: 0.0914\n",
            "Epoch 2/10\n",
            "374/375 [============================>.] - ETA: 0s - loss: 0.1820 - accuracy: 0.0900\n",
            "Epoch 00002: val_accuracy did not improve from 0.09142\n",
            "375/375 [==============================] - 5s 12ms/step - loss: 0.1820 - accuracy: 0.0901 - val_loss: 0.1817 - val_accuracy: 0.0914\n",
            "Epoch 3/10\n",
            "372/375 [============================>.] - ETA: 0s - loss: 0.1820 - accuracy: 0.0900\n",
            "Epoch 00003: val_accuracy did not improve from 0.09142\n",
            "375/375 [==============================] - 5s 12ms/step - loss: 0.1820 - accuracy: 0.0901 - val_loss: 0.1817 - val_accuracy: 0.0914\n",
            "Epoch 4/10\n",
            "372/375 [============================>.] - ETA: 0s - loss: 0.1820 - accuracy: 0.0901\n",
            "Epoch 00004: val_accuracy did not improve from 0.09142\n",
            "375/375 [==============================] - 5s 12ms/step - loss: 0.1820 - accuracy: 0.0901 - val_loss: 0.1817 - val_accuracy: 0.0914\n",
            "Epoch 5/10\n",
            "373/375 [============================>.] - ETA: 0s - loss: 0.1820 - accuracy: 0.0902\n",
            "Epoch 00005: val_accuracy did not improve from 0.09142\n",
            "375/375 [==============================] - 5s 12ms/step - loss: 0.1820 - accuracy: 0.0901 - val_loss: 0.1817 - val_accuracy: 0.0914\n",
            "Epoch 6/10\n",
            "375/375 [==============================] - ETA: 0s - loss: 0.1820 - accuracy: 0.0901\n",
            "Epoch 00006: val_accuracy did not improve from 0.09142\n",
            "375/375 [==============================] - 4s 12ms/step - loss: 0.1820 - accuracy: 0.0901 - val_loss: 0.1817 - val_accuracy: 0.0914\n",
            "Epoch 7/10\n",
            "372/375 [============================>.] - ETA: 0s - loss: 0.1820 - accuracy: 0.0900\n",
            "Epoch 00007: val_accuracy did not improve from 0.09142\n",
            "375/375 [==============================] - 5s 12ms/step - loss: 0.1820 - accuracy: 0.0901 - val_loss: 0.1817 - val_accuracy: 0.0914\n",
            "Epoch 8/10\n",
            "375/375 [==============================] - ETA: 0s - loss: 0.1820 - accuracy: 0.0901\n",
            "Epoch 00008: val_accuracy did not improve from 0.09142\n",
            "375/375 [==============================] - 5s 12ms/step - loss: 0.1820 - accuracy: 0.0901 - val_loss: 0.1817 - val_accuracy: 0.0914\n",
            "Epoch 9/10\n",
            "372/375 [============================>.] - ETA: 0s - loss: 0.1813 - accuracy: 0.0934\n",
            "Epoch 00009: val_accuracy improved from 0.09142 to 0.15992, saving model to ./output_mnist/weights.hdf5\n",
            "375/375 [==============================] - 5s 12ms/step - loss: 0.1811 - accuracy: 0.0939 - val_loss: 0.1670 - val_accuracy: 0.1599\n",
            "Epoch 10/10\n",
            "373/375 [============================>.] - ETA: 0s - loss: 0.1542 - accuracy: 0.2256\n",
            "Epoch 00010: val_accuracy improved from 0.15992 to 0.30258, saving model to ./output_mnist/weights.hdf5\n",
            "375/375 [==============================] - 5s 12ms/step - loss: 0.1541 - accuracy: 0.2261 - val_loss: 0.1384 - val_accuracy: 0.3026\n"
          ],
          "name": "stdout"
        }
      ]
    },
    {
      "cell_type": "markdown",
      "metadata": {
        "id": "nRMiWfUwebS8",
        "colab_type": "text"
      },
      "source": [
        "**Reload the last best saved weights in the neural netwok and resume the training further.** "
      ]
    },
    {
      "cell_type": "code",
      "metadata": {
        "id": "gjN47yPmebk1",
        "colab_type": "code",
        "colab": {
          "base_uri": "https://localhost:8080/",
          "height": 803
        },
        "outputId": "9c8f26e6-2c61-4a31-f7f3-326acf6cc044"
      },
      "source": [
        "model.load_weights(filepath) # last best saved values in the neural network.\n",
        "\n",
        "# train the model\n",
        "\n",
        "model_info = model.fit(train_features,train_labels,\n",
        "                       batch_size =128,\n",
        "                       epochs=10,\n",
        "                       callbacks= callbacks_list,\n",
        "                       verbose = 1,\n",
        "                       validation_split=0.2)\n",
        "\n",
        "model.load_weights(filepath)\n",
        "\n",
        "model_accuracy = accuracy(test_features, test_labels, model)\n",
        "print(\"Accuracy on Test data is : \", model_accuracy )\n"
      ],
      "execution_count": null,
      "outputs": [
        {
          "output_type": "stream",
          "text": [
            "Epoch 1/10\n",
            "372/375 [============================>.] - ETA: 0s - loss: 0.0999 - accuracy: 0.4960\n",
            "Epoch 00001: val_accuracy improved from 0.30258 to 0.54958, saving model to ./output_mnist/weights.hdf5\n",
            "375/375 [==============================] - 5s 12ms/step - loss: 0.0999 - accuracy: 0.4961 - val_loss: 0.0895 - val_accuracy: 0.5496\n",
            "Epoch 2/10\n",
            "371/375 [============================>.] - ETA: 0s - loss: 0.0842 - accuracy: 0.5755\n",
            "Epoch 00002: val_accuracy improved from 0.54958 to 0.62383, saving model to ./output_mnist/weights.hdf5\n",
            "375/375 [==============================] - 5s 12ms/step - loss: 0.0841 - accuracy: 0.5760 - val_loss: 0.0745 - val_accuracy: 0.6238\n",
            "Epoch 3/10\n",
            "371/375 [============================>.] - ETA: 0s - loss: 0.0744 - accuracy: 0.6252\n",
            "Epoch 00003: val_accuracy improved from 0.62383 to 0.63633, saving model to ./output_mnist/weights.hdf5\n",
            "375/375 [==============================] - 5s 12ms/step - loss: 0.0743 - accuracy: 0.6254 - val_loss: 0.0721 - val_accuracy: 0.6363\n",
            "Epoch 4/10\n",
            "372/375 [============================>.] - ETA: 0s - loss: 0.0707 - accuracy: 0.6435\n",
            "Epoch 00004: val_accuracy improved from 0.63633 to 0.66892, saving model to ./output_mnist/weights.hdf5\n",
            "375/375 [==============================] - 5s 12ms/step - loss: 0.0708 - accuracy: 0.6434 - val_loss: 0.0654 - val_accuracy: 0.6689\n",
            "Epoch 5/10\n",
            "374/375 [============================>.] - ETA: 0s - loss: 0.0576 - accuracy: 0.7094\n",
            "Epoch 00005: val_accuracy improved from 0.66892 to 0.70417, saving model to ./output_mnist/weights.hdf5\n",
            "375/375 [==============================] - 5s 12ms/step - loss: 0.0576 - accuracy: 0.7093 - val_loss: 0.0586 - val_accuracy: 0.7042\n",
            "Epoch 6/10\n",
            "371/375 [============================>.] - ETA: 0s - loss: 0.0537 - accuracy: 0.7289\n",
            "Epoch 00006: val_accuracy improved from 0.70417 to 0.73608, saving model to ./output_mnist/weights.hdf5\n",
            "375/375 [==============================] - 5s 12ms/step - loss: 0.0537 - accuracy: 0.7289 - val_loss: 0.0523 - val_accuracy: 0.7361\n",
            "Epoch 7/10\n",
            "373/375 [============================>.] - ETA: 0s - loss: 0.0521 - accuracy: 0.7372\n",
            "Epoch 00007: val_accuracy improved from 0.73608 to 0.74825, saving model to ./output_mnist/weights.hdf5\n",
            "375/375 [==============================] - 5s 12ms/step - loss: 0.0521 - accuracy: 0.7371 - val_loss: 0.0499 - val_accuracy: 0.7483\n",
            "Epoch 8/10\n",
            "371/375 [============================>.] - ETA: 0s - loss: 0.0520 - accuracy: 0.7377\n",
            "Epoch 00008: val_accuracy did not improve from 0.74825\n",
            "375/375 [==============================] - 5s 12ms/step - loss: 0.0519 - accuracy: 0.7380 - val_loss: 0.0500 - val_accuracy: 0.7472\n",
            "Epoch 9/10\n",
            "374/375 [============================>.] - ETA: 0s - loss: 0.0514 - accuracy: 0.7407\n",
            "Epoch 00009: val_accuracy did not improve from 0.74825\n",
            "375/375 [==============================] - 4s 12ms/step - loss: 0.0514 - accuracy: 0.7407 - val_loss: 0.0528 - val_accuracy: 0.7337\n",
            "Epoch 10/10\n",
            "373/375 [============================>.] - ETA: 0s - loss: 0.0512 - accuracy: 0.7419\n",
            "Epoch 00010: val_accuracy did not improve from 0.74825\n",
            "375/375 [==============================] - 5s 12ms/step - loss: 0.0512 - accuracy: 0.7420 - val_loss: 0.0525 - val_accuracy: 0.7355\n",
            "Accuracy on Test data is :  74.83\n"
          ],
          "name": "stdout"
        }
      ]
    },
    {
      "cell_type": "markdown",
      "metadata": {
        "id": "6GtDacaESWUo",
        "colab_type": "text"
      },
      "source": [
        "B) Section Method\n",
        "Specify the directory to save the model\n"
      ]
    },
    {
      "cell_type": "code",
      "metadata": {
        "id": "YUVSUzV1TXnv",
        "colab_type": "code",
        "colab": {
          "base_uri": "https://localhost:8080/",
          "height": 36
        },
        "outputId": "db7456ea-5c4b-4044-d1e1-7ef8cbf3b821"
      },
      "source": [
        "import os\n",
        "\n",
        "model = deep_nn()\n",
        "\n",
        "# define optimizer\n",
        "sgd = SGD(lr = 0.1)\n",
        "\n",
        "# Compilig the model\n",
        "model.compile(optimizer=sgd, loss='mse', metrics=['accuracy'])\n",
        "\n",
        "#checkpoint\n",
        "outputFolder2 = './output_mnist2'\n",
        "\n",
        "if not os.path.exists(outputFolder):\n",
        "  os.makedirs(outputFolder)\n",
        "\n",
        "filepath2 = outputFolder2 + \"/weights-{epoch:02d}-{val_accuracy:.3f}.hdf5\"   #use to store the best esitmated weights.\n",
        "print(filepath2)\n"
      ],
      "execution_count": null,
      "outputs": [
        {
          "output_type": "stream",
          "text": [
            "./output_mnist2/weights-{epoch:02d}-{val_accuracy:.3f}.hdf5\n"
          ],
          "name": "stdout"
        }
      ]
    },
    {
      "cell_type": "markdown",
      "metadata": {
        "id": "kaMpzogjUQL3",
        "colab_type": "text"
      },
      "source": [
        "Create checkpoints to save the weights at the end o epoch"
      ]
    },
    {
      "cell_type": "code",
      "metadata": {
        "id": "hybbuH3qUQUn",
        "colab_type": "code",
        "colab": {
          "base_uri": "https://localhost:8080/",
          "height": 784
        },
        "outputId": "0b8e6fb8-1c9e-4328-bff1-5011b53dedfd"
      },
      "source": [
        "from keras.callbacks import ModelCheckpoint\n",
        "\n",
        "checkpoint_callback = ModelCheckpoint(filepath2,\n",
        "                                      save_weights_only=True,\n",
        "                                      monitor='val_accuracy',\n",
        "                                      mode='auto',verbose=1,\n",
        "                                      save_best_only=False,\n",
        "                                      save_freq='epoch')\n",
        "\n",
        "callbacks_list = [checkpoint_callback]\n",
        "\n",
        "#train the model\n",
        "\n",
        "model_info = model.fit(train_features,train_labels,\n",
        "                       batch_size =128,\n",
        "                       epochs=10,\n",
        "                       callbacks= callbacks_list,\n",
        "                       verbose = 1,\n",
        "                       validation_split=0.2)"
      ],
      "execution_count": null,
      "outputs": [
        {
          "output_type": "stream",
          "text": [
            "Epoch 1/10\n",
            "374/375 [============================>.] - ETA: 0s - loss: 0.0341 - accuracy: 0.8282\n",
            "Epoch 00001: saving model to ./output_mnist2/weights-01-0.838.hdf5\n",
            "375/375 [==============================] - 5s 12ms/step - loss: 0.0341 - accuracy: 0.8281 - val_loss: 0.0323 - val_accuracy: 0.8377\n",
            "Epoch 2/10\n",
            "372/375 [============================>.] - ETA: 0s - loss: 0.0332 - accuracy: 0.8330\n",
            "Epoch 00002: saving model to ./output_mnist2/weights-02-0.834.hdf5\n",
            "375/375 [==============================] - 5s 12ms/step - loss: 0.0331 - accuracy: 0.8332 - val_loss: 0.0329 - val_accuracy: 0.8342\n",
            "Epoch 3/10\n",
            "375/375 [==============================] - ETA: 0s - loss: 0.0344 - accuracy: 0.8265\n",
            "Epoch 00003: saving model to ./output_mnist2/weights-03-0.837.hdf5\n",
            "375/375 [==============================] - 5s 12ms/step - loss: 0.0344 - accuracy: 0.8265 - val_loss: 0.0325 - val_accuracy: 0.8367\n",
            "Epoch 4/10\n",
            "371/375 [============================>.] - ETA: 0s - loss: 0.0326 - accuracy: 0.8358\n",
            "Epoch 00004: saving model to ./output_mnist2/weights-04-0.843.hdf5\n",
            "375/375 [==============================] - 5s 12ms/step - loss: 0.0326 - accuracy: 0.8357 - val_loss: 0.0313 - val_accuracy: 0.8427\n",
            "Epoch 5/10\n",
            "374/375 [============================>.] - ETA: 0s - loss: 0.0319 - accuracy: 0.8391\n",
            "Epoch 00005: saving model to ./output_mnist2/weights-05-0.839.hdf5\n",
            "375/375 [==============================] - 5s 14ms/step - loss: 0.0319 - accuracy: 0.8391 - val_loss: 0.0319 - val_accuracy: 0.8391\n",
            "Epoch 6/10\n",
            "373/375 [============================>.] - ETA: 0s - loss: 0.0334 - accuracy: 0.8316\n",
            "Epoch 00006: saving model to ./output_mnist2/weights-06-0.842.hdf5\n",
            "375/375 [==============================] - 5s 14ms/step - loss: 0.0333 - accuracy: 0.8319 - val_loss: 0.0313 - val_accuracy: 0.8423\n",
            "Epoch 7/10\n",
            "372/375 [============================>.] - ETA: 0s - loss: 0.0318 - accuracy: 0.8398\n",
            "Epoch 00007: saving model to ./output_mnist2/weights-07-0.846.hdf5\n",
            "375/375 [==============================] - 5s 12ms/step - loss: 0.0317 - accuracy: 0.8400 - val_loss: 0.0306 - val_accuracy: 0.8460\n",
            "Epoch 8/10\n",
            "375/375 [==============================] - ETA: 0s - loss: 0.0319 - accuracy: 0.8394\n",
            "Epoch 00008: saving model to ./output_mnist2/weights-08-0.847.hdf5\n",
            "375/375 [==============================] - 5s 12ms/step - loss: 0.0319 - accuracy: 0.8394 - val_loss: 0.0304 - val_accuracy: 0.8466\n",
            "Epoch 9/10\n",
            "375/375 [==============================] - ETA: 0s - loss: 0.0319 - accuracy: 0.8396\n",
            "Epoch 00009: saving model to ./output_mnist2/weights-09-0.848.hdf5\n",
            "375/375 [==============================] - 5s 12ms/step - loss: 0.0319 - accuracy: 0.8396 - val_loss: 0.0302 - val_accuracy: 0.8482\n",
            "Epoch 10/10\n",
            "372/375 [============================>.] - ETA: 0s - loss: 0.0309 - accuracy: 0.8445\n",
            "Epoch 00010: saving model to ./output_mnist2/weights-10-0.845.hdf5\n",
            "375/375 [==============================] - 5s 12ms/step - loss: 0.0309 - accuracy: 0.8445 - val_loss: 0.0307 - val_accuracy: 0.8453\n"
          ],
          "name": "stdout"
        }
      ]
    },
    {
      "cell_type": "code",
      "metadata": {
        "id": "CJvPzC8b2pDx",
        "colab_type": "code",
        "colab": {
          "base_uri": "https://localhost:8080/",
          "height": 803
        },
        "outputId": "4f09eb26-e71a-49d6-cd5b-2c884dd3ba25"
      },
      "source": [
        "filepath2 = outputFolder2 + \"/weights-{epoch:02d}-{val_accuracy:.3f}.hdf5\"   #use to store the best esitmated weights.\n",
        "\n",
        "checkpoint_callback = ModelCheckpoint(filepath2,\n",
        "                                      monitor='val_accuracy',\n",
        "                                      mode='auto',verbose=1,\n",
        "                                      save_best_only=False,\n",
        "                                      save_weights_only=False,\n",
        "                                      save_freq='epoch')\n",
        "\n",
        "callbacks_list = [checkpoint_callback]\n",
        "\n",
        "#train the model\n",
        "\n",
        "model_info = model.fit(train_features,train_labels,\n",
        "                       batch_size =128,\n",
        "                       initial_epoch=10,\n",
        "                       epochs=20,\n",
        "                       callbacks= callbacks_list,\n",
        "                       verbose = 1,\n",
        "                       validation_split=0.2)\n",
        "\n",
        "# Compute the test accuracy\n",
        "\n",
        "model_accuracy = accuracy(test_features, test_labels, model)\n",
        "print(\"Accuracy on Test data is : \", model_accuracy )"
      ],
      "execution_count": null,
      "outputs": [
        {
          "output_type": "stream",
          "text": [
            "Epoch 11/20\n",
            "374/375 [============================>.] - ETA: 0s - loss: 0.0305 - accuracy: 0.8465\n",
            "Epoch 00011: saving model to ./output_mnist2/weights-11-0.850.hdf5\n",
            "375/375 [==============================] - 5s 13ms/step - loss: 0.0305 - accuracy: 0.8466 - val_loss: 0.0297 - val_accuracy: 0.8504\n",
            "Epoch 12/20\n",
            "371/375 [============================>.] - ETA: 0s - loss: 0.0299 - accuracy: 0.8493\n",
            "Epoch 00012: saving model to ./output_mnist2/weights-12-0.843.hdf5\n",
            "375/375 [==============================] - 5s 13ms/step - loss: 0.0299 - accuracy: 0.8493 - val_loss: 0.0310 - val_accuracy: 0.8433\n",
            "Epoch 13/20\n",
            "374/375 [============================>.] - ETA: 0s - loss: 0.0305 - accuracy: 0.8459\n",
            "Epoch 00013: saving model to ./output_mnist2/weights-13-0.842.hdf5\n",
            "375/375 [==============================] - 5s 12ms/step - loss: 0.0305 - accuracy: 0.8460 - val_loss: 0.0312 - val_accuracy: 0.8422\n",
            "Epoch 14/20\n",
            "373/375 [============================>.] - ETA: 0s - loss: 0.0295 - accuracy: 0.8514\n",
            "Epoch 00014: saving model to ./output_mnist2/weights-14-0.850.hdf5\n",
            "375/375 [==============================] - 5s 12ms/step - loss: 0.0295 - accuracy: 0.8513 - val_loss: 0.0296 - val_accuracy: 0.8504\n",
            "Epoch 15/20\n",
            "372/375 [============================>.] - ETA: 0s - loss: 0.0296 - accuracy: 0.8512\n",
            "Epoch 00015: saving model to ./output_mnist2/weights-15-0.846.hdf5\n",
            "375/375 [==============================] - 5s 12ms/step - loss: 0.0296 - accuracy: 0.8511 - val_loss: 0.0304 - val_accuracy: 0.8464\n",
            "Epoch 16/20\n",
            "373/375 [============================>.] - ETA: 0s - loss: 0.0294 - accuracy: 0.8522\n",
            "Epoch 00016: saving model to ./output_mnist2/weights-16-0.852.hdf5\n",
            "375/375 [==============================] - 5s 13ms/step - loss: 0.0293 - accuracy: 0.8524 - val_loss: 0.0294 - val_accuracy: 0.8521\n",
            "Epoch 17/20\n",
            "373/375 [============================>.] - ETA: 0s - loss: 0.0295 - accuracy: 0.8511\n",
            "Epoch 00017: saving model to ./output_mnist2/weights-17-0.843.hdf5\n",
            "375/375 [==============================] - 5s 13ms/step - loss: 0.0295 - accuracy: 0.8511 - val_loss: 0.0312 - val_accuracy: 0.8428\n",
            "Epoch 18/20\n",
            "372/375 [============================>.] - ETA: 0s - loss: 0.0290 - accuracy: 0.8540\n",
            "Epoch 00018: saving model to ./output_mnist2/weights-18-0.857.hdf5\n",
            "375/375 [==============================] - 5s 13ms/step - loss: 0.0290 - accuracy: 0.8539 - val_loss: 0.0283 - val_accuracy: 0.8570\n",
            "Epoch 19/20\n",
            "372/375 [============================>.] - ETA: 0s - loss: 0.0288 - accuracy: 0.8548\n",
            "Epoch 00019: saving model to ./output_mnist2/weights-19-0.855.hdf5\n",
            "375/375 [==============================] - 5s 13ms/step - loss: 0.0288 - accuracy: 0.8548 - val_loss: 0.0287 - val_accuracy: 0.8552\n",
            "Epoch 20/20\n",
            "373/375 [============================>.] - ETA: 0s - loss: 0.0289 - accuracy: 0.8542\n",
            "Epoch 00020: saving model to ./output_mnist2/weights-20-0.856.hdf5\n",
            "375/375 [==============================] - 5s 13ms/step - loss: 0.0289 - accuracy: 0.8543 - val_loss: 0.0285 - val_accuracy: 0.8559\n",
            "Accuracy on Test data is :  85.5\n"
          ],
          "name": "stdout"
        }
      ]
    },
    {
      "cell_type": "markdown",
      "metadata": {
        "id": "xPKS-61r4ey8",
        "colab_type": "text"
      },
      "source": [
        "**9) Early Stopping**"
      ]
    },
    {
      "cell_type": "code",
      "metadata": {
        "id": "YEjAyfot4VD1",
        "colab_type": "code",
        "colab": {
          "base_uri": "https://localhost:8080/",
          "height": 36
        },
        "outputId": "e20bec58-3465-4961-b10b-9c2db0cf9bce"
      },
      "source": [
        " import os\n",
        "\n",
        "model = deep_nn()\n",
        "\n",
        "# define optimizer\n",
        "sgd = SGD(lr = 0.1)\n",
        "\n",
        "# Compilig the model\n",
        "model.compile(optimizer=sgd, loss='mse', metrics=['accuracy'])\n",
        "\n",
        "#checkpoint\n",
        "outputFolder3 = './output_mnist3'\n",
        "\n",
        "if not os.path.exists(outputFolder3):\n",
        "  os.makedirs(outputFolder3)\n",
        "\n",
        "filepath3 = outputFolder2 + \"/weights-{epoch:02d}-{val_accuracy:.3f}.hdf5\"   #use to store the best esitmated weights.\n",
        "print(filepath3)\n"
      ],
      "execution_count": null,
      "outputs": [
        {
          "output_type": "stream",
          "text": [
            "./output_mnist2/weights-{epoch:02d}-{val_accuracy:.3f}.hdf5\n"
          ],
          "name": "stdout"
        }
      ]
    },
    {
      "cell_type": "code",
      "metadata": {
        "id": "rT2yOzAP-v9j",
        "colab_type": "code",
        "colab": {}
      },
      "source": [
        "from keras.callbacks import ModelCheckpoint\n",
        "from keras.callbacks import \n",
        "\n",
        "checkpoint_callback = ModelCheckpoint(filepath2,\n",
        "                                      save_weights_only=True,\n",
        "                                      monitor='val_accuracy',\n",
        "                                      mode='auto',verbose=1,\n",
        "                                      save_best_only=False,\n",
        "                                      save_freq='epoch')\n",
        "\n",
        "callbacks_list = [checkpoint_callback]\n",
        "\n",
        "#train the model\n",
        "\n",
        "model_info = model.fit(train_features,train_labels,\n",
        "                       batch_size =128,\n",
        "                       epochs=10,\n",
        "                       callbacks= callbacks_list,\n",
        "                       verbose = 1,\n",
        "                       validation_split=0.2)"
      ],
      "execution_count": null,
      "outputs": []
    }
  ]
}